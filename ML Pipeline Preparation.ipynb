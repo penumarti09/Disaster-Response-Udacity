{
 "cells": [
  {
   "cell_type": "markdown",
   "metadata": {},
   "source": [
    "# ML Pipeline Preparation\n",
    "Follow the instructions below to help you create your ML pipeline.\n",
    "### 1. Import libraries and load data from database.\n",
    "- Import Python libraries\n",
    "- Load dataset from database with [`read_sql_table`](https://pandas.pydata.org/pandas-docs/stable/generated/pandas.read_sql_table.html)\n",
    "- Define feature and target variables X and Y"
   ]
  },
  {
   "cell_type": "code",
   "execution_count": 1,
   "metadata": {},
   "outputs": [
    {
     "name": "stdout",
     "output_type": "stream",
     "text": [
      "[nltk_data] Downloading package punkt to /root/nltk_data...\n",
      "[nltk_data]   Unzipping tokenizers/punkt.zip.\n",
      "[nltk_data] Downloading package wordnet to /root/nltk_data...\n",
      "[nltk_data]   Unzipping corpora/wordnet.zip.\n"
     ]
    }
   ],
   "source": [
    "# import libraries\n",
    "import numpy as np\n",
    "import pandas as pd\n",
    "from sklearn.ensemble import GradientBoostingClassifier, AdaBoostClassifier\n",
    "import re\n",
    "from sklearn.ensemble import RandomForestClassifier\n",
    "from sklearn.feature_extraction.text import CountVectorizer, TfidfTransformer\n",
    "from sklearn.multioutput import MultiOutputClassifier\n",
    "from sklearn.pipeline import Pipeline, FeatureUnion\n",
    "from sklearn.model_selection import train_test_split\n",
    "from sklearn.metrics import confusion_matrix\n",
    "from sklearn.metrics import classification_report, accuracy_score, make_scorer, fbeta_score, f1_score\n",
    "from sklearn.model_selection import GridSearchCV\n",
    "from sqlalchemy import create_engine\n",
    "from scipy.stats.mstats import gmean\n",
    "from sklearn.metrics import classification_report\n",
    "from sklearn.metrics import fbeta_score, make_scorer\n",
    "from sklearn.base import BaseEstimator,TransformerMixin\n",
    "import nltk\n",
    "from nltk.stem import WordNetLemmatizer\n",
    "nltk.download(['punkt', 'wordnet'])\n",
    "from nltk.tokenize import word_tokenize\n",
    "url_regex = 'http[s]?://(?:[a-zA-Z]|[0-9]|[$-_@.&+]|[!*\\(\\),]|(?:%[0-9a-fA-F][0-9a-fA-F]))+'"
   ]
  },
  {
   "cell_type": "code",
   "execution_count": 2,
   "metadata": {},
   "outputs": [],
   "source": [
    "# load data from database\n",
    "engine = create_engine('sqlite:///DisasterResponse.db')\n",
    "df = pd.read_sql('SELECT * FROM df1', con = engine)\n",
    "X = df [['id', 'message', 'original','genre']]\n",
    "Y = df [['electricity', 'tools', 'hospitals','missing_people','aid_related', 'medical_help', 'medical_products','related', 'request', 'offer', 'search_and_rescue', 'security', 'military', 'child_alone',\n",
    " 'water', 'food', 'shelter', 'clothing', 'money', 'other_aid', 'infrastructure_related', 'transport',\n",
    " 'buildings', 'refugees', 'death', 'shops', 'aid_centers', 'other_infrastructure', 'weather_related', 'floods',\n",
    " 'storm', 'other_weather','direct_report','fire', 'earthquake', 'cold']]\n",
    "Y = df.iloc[:,4:]\n",
    "X = df['message']\n"
   ]
  },
  {
   "cell_type": "markdown",
   "metadata": {},
   "source": [
    "### 2. Write a tokenization function to process your text data"
   ]
  },
  {
   "cell_type": "code",
   "execution_count": 3,
   "metadata": {
    "scrolled": true
   },
   "outputs": [],
   "source": [
    "def tokenize(text):\n",
    "    '''This is a tokenization function for our text. \n",
    "    The input is our text and output is tokenized text'''\n",
    "    found_urls = re.findall(url_regex, text)\n",
    "    for url in found_urls:\n",
    "        text = text.replace(url, \"urlplaceholder\")\n",
    "        \n",
    "\n",
    "    tokens = word_tokenize(text)\n",
    "    lemmatizer = WordNetLemmatizer()\n",
    "\n",
    "    clean_tokens = []\n",
    "    for tok in tokens:\n",
    "        clean_tok = lemmatizer.lemmatize(tok).lower().strip()\n",
    "        clean_tokens.append(clean_tok)\n",
    "\n",
    "    return clean_tokens"
   ]
  },
  {
   "cell_type": "markdown",
   "metadata": {},
   "source": [
    "### 3. Build a machine learning pipeline\n",
    "This machine pipeline should take in the `message` column as input and output classification results on the other 36 categories in the dataset. You may find the [MultiOutputClassifier](http://scikit-learn.org/stable/modules/generated/sklearn.multioutput.MultiOutputClassifier.html) helpful for predicting multiple target variables."
   ]
  },
  {
   "cell_type": "code",
   "execution_count": 4,
   "metadata": {},
   "outputs": [],
   "source": [
    "def pipeline():\n",
    "    '''This is a function for our text. \n",
    "    The input is our text and output is tokenized text'''\n",
    "    pipeline = Pipeline([\n",
    "            ('vect', CountVectorizer(tokenizer=tokenize)),\n",
    "            ('tfidf', TfidfTransformer()),\n",
    "            ('clf',MultiOutputClassifier(RandomForestClassifier())),\n",
    "        ])\n",
    "    return pipeline"
   ]
  },
  {
   "cell_type": "code",
   "execution_count": 5,
   "metadata": {},
   "outputs": [],
   "source": [
    "def show_results(y_test, y_pred):\n",
    "    '''This is a function for showing the results \n",
    "    The input is the y test and y pred and output is result\n",
    "    We involve the concept of confusion matrix to acheieve this\n",
    "    '''\n",
    "    \n",
    "    labels = np.unique(y_pred)\n",
    "    confusion_mat = confusion_matrix(y_test, y_pred, labels=labels)\n",
    "    accuracy = (y_pred == y_test).mean()\n",
    "\n",
    "    print(\"Labels:\", labels)\n",
    "    print(\"Confusion Matrix:\\n\", confusion_mat)\n",
    "    print(\"Accuracy:\", accuracy)"
   ]
  },
  {
   "cell_type": "code",
   "execution_count": 6,
   "metadata": {},
   "outputs": [
    {
     "data": {
      "text/plain": [
       "13707    In the immediate aftermath of natural disaster...\n",
       "532      Good Morning I am in Haiti : I need my father ...\n",
       "4282     I thank you for helping .. we have rice but we...\n",
       "20460    More than a decade since the first cases of th...\n",
       "662      Please put a prepaid card ( minutes ) for me. ...\n",
       "Name: message, dtype: object"
      ]
     },
     "execution_count": 6,
     "metadata": {},
     "output_type": "execute_result"
    }
   ],
   "source": [
    "X_train, X_test, Y_train, Y_test = train_test_split(X, Y, test_size=0.2)\n",
    "X_train.head()"
   ]
  },
  {
   "cell_type": "markdown",
   "metadata": {},
   "source": [
    "### 4. Train pipeline\n",
    "- Split data into train and test sets\n",
    "- Train pipeline"
   ]
  },
  {
   "cell_type": "code",
   "execution_count": 7,
   "metadata": {},
   "outputs": [
    {
     "data": {
      "text/plain": [
       "Pipeline(memory=None,\n",
       "     steps=[('vect', CountVectorizer(analyzer='word', binary=False, decode_error='strict',\n",
       "        dtype=<class 'numpy.int64'>, encoding='utf-8', input='content',\n",
       "        lowercase=True, max_df=1.0, max_features=None, min_df=1,\n",
       "        ngram_range=(1, 1), preprocessor=None, stop_words=None,\n",
       "        strip...oob_score=False, random_state=None, verbose=0,\n",
       "            warm_start=False),\n",
       "           n_jobs=1))])"
      ]
     },
     "execution_count": 7,
     "metadata": {},
     "output_type": "execute_result"
    }
   ],
   "source": [
    "# train classifier\n",
    "model=[]\n",
    "model=pipeline()\n",
    "model.fit(X_train, Y_train)"
   ]
  },
  {
   "cell_type": "markdown",
   "metadata": {},
   "source": [
    "### 5. Test your model\n",
    "Report the f1 score, precision and recall for each output category of the dataset. You can do this by iterating through the columns and calling sklearn's `classification_report` on each."
   ]
  },
  {
   "cell_type": "code",
   "execution_count": 8,
   "metadata": {},
   "outputs": [
    {
     "name": "stdout",
     "output_type": "stream",
     "text": [
      "Category: related \n",
      "              precision    recall  f1-score   support\n",
      "\n",
      "          0       0.61      0.36      0.45      1176\n",
      "          1       0.83      0.93      0.88      4022\n",
      "          2       0.69      0.24      0.35        46\n",
      "\n",
      "avg / total       0.78      0.80      0.78      5244\n",
      "\n",
      "Accuracy of                   related: 0.80\n",
      "Category: request \n",
      "              precision    recall  f1-score   support\n",
      "\n",
      "          0       0.88      0.98      0.93      4338\n",
      "          1       0.84      0.38      0.53       906\n",
      "\n",
      "avg / total       0.88      0.88      0.86      5244\n",
      "\n",
      "Accuracy of                   request: 0.88\n",
      "Category: offer \n",
      "              precision    recall  f1-score   support\n",
      "\n",
      "          0       1.00      1.00      1.00      5218\n",
      "          1       0.00      0.00      0.00        26\n",
      "\n",
      "avg / total       0.99      1.00      0.99      5244\n",
      "\n",
      "Accuracy of                     offer: 1.00\n",
      "Category: aid_related \n",
      "              precision    recall  f1-score   support\n",
      "\n",
      "          0       0.71      0.88      0.79      3059\n",
      "          1       0.75      0.50      0.60      2185\n",
      "\n",
      "avg / total       0.73      0.72      0.71      5244\n",
      "\n",
      "Accuracy of               aid_related: 0.72\n",
      "Category: medical_help \n",
      "              precision    recall  f1-score   support\n",
      "\n",
      "          0       0.92      0.99      0.96      4809\n",
      "          1       0.53      0.07      0.12       435\n",
      "\n",
      "avg / total       0.89      0.92      0.89      5244\n",
      "\n",
      "Accuracy of              medical_help: 0.92\n",
      "Category: medical_products \n",
      "              precision    recall  f1-score   support\n",
      "\n",
      "          0       0.95      1.00      0.97      4980\n",
      "          1       0.68      0.06      0.12       264\n",
      "\n",
      "avg / total       0.94      0.95      0.93      5244\n",
      "\n",
      "Accuracy of          medical_products: 0.95\n",
      "Category: search_and_rescue \n",
      "              precision    recall  f1-score   support\n",
      "\n",
      "          0       0.97      1.00      0.99      5101\n",
      "          1       0.33      0.01      0.01       143\n",
      "\n",
      "avg / total       0.96      0.97      0.96      5244\n",
      "\n",
      "Accuracy of         search_and_rescue: 0.97\n",
      "Category: security \n",
      "              precision    recall  f1-score   support\n",
      "\n",
      "          0       0.98      1.00      0.99      5151\n",
      "          1       0.33      0.01      0.02        93\n",
      "\n",
      "avg / total       0.97      0.98      0.97      5244\n",
      "\n",
      "Accuracy of                  security: 0.98\n",
      "Category: military \n",
      "              precision    recall  f1-score   support\n",
      "\n",
      "          0       0.97      1.00      0.98      5073\n",
      "          1       0.67      0.08      0.15       171\n",
      "\n",
      "avg / total       0.96      0.97      0.96      5244\n",
      "\n",
      "Accuracy of                  military: 0.97\n",
      "Category: child_alone \n",
      "              precision    recall  f1-score   support\n",
      "\n",
      "          0       1.00      1.00      1.00      5244\n",
      "\n",
      "avg / total       1.00      1.00      1.00      5244\n",
      "\n",
      "Accuracy of               child_alone: 1.00\n",
      "Category: water \n",
      "              precision    recall  f1-score   support\n",
      "\n",
      "          0       0.95      1.00      0.98      4927\n",
      "          1       0.90      0.26      0.40       317\n",
      "\n",
      "avg / total       0.95      0.95      0.94      5244\n",
      "\n",
      "Accuracy of                     water: 0.95\n",
      "Category: food \n",
      "              precision    recall  f1-score   support\n",
      "\n",
      "          0       0.95      0.99      0.97      4670\n",
      "          1       0.82      0.53      0.65       574\n",
      "\n",
      "avg / total       0.93      0.94      0.93      5244\n",
      "\n",
      "Accuracy of                      food: 0.94\n",
      "Category: shelter \n",
      "              precision    recall  f1-score   support\n",
      "\n",
      "          0       0.93      0.99      0.96      4771\n",
      "          1       0.76      0.26      0.38       473\n",
      "\n",
      "avg / total       0.92      0.93      0.91      5244\n",
      "\n",
      "Accuracy of                   shelter: 0.93\n",
      "Category: clothing \n",
      "              precision    recall  f1-score   support\n",
      "\n",
      "          0       0.99      1.00      0.99      5169\n",
      "          1       0.29      0.03      0.05        75\n",
      "\n",
      "avg / total       0.98      0.99      0.98      5244\n",
      "\n",
      "Accuracy of                  clothing: 0.99\n",
      "Category: money \n",
      "              precision    recall  f1-score   support\n",
      "\n",
      "          0       0.97      1.00      0.99      5098\n",
      "          1       0.56      0.03      0.06       146\n",
      "\n",
      "avg / total       0.96      0.97      0.96      5244\n",
      "\n",
      "Accuracy of                     money: 0.97\n",
      "Category: missing_people \n",
      "              precision    recall  f1-score   support\n",
      "\n",
      "          0       0.99      1.00      0.99      5190\n",
      "          1       0.50      0.02      0.04        54\n",
      "\n",
      "avg / total       0.98      0.99      0.98      5244\n",
      "\n",
      "Accuracy of            missing_people: 0.99\n",
      "Category: refugees \n",
      "              precision    recall  f1-score   support\n",
      "\n",
      "          0       0.97      1.00      0.98      5072\n",
      "          1       0.42      0.03      0.05       172\n",
      "\n",
      "avg / total       0.95      0.97      0.95      5244\n",
      "\n",
      "Accuracy of                  refugees: 0.97\n",
      "Category: death \n",
      "              precision    recall  f1-score   support\n",
      "\n",
      "          0       0.96      1.00      0.98      5020\n",
      "          1       0.55      0.08      0.14       224\n",
      "\n",
      "avg / total       0.94      0.96      0.94      5244\n",
      "\n",
      "Accuracy of                     death: 0.96\n",
      "Category: other_aid \n",
      "              precision    recall  f1-score   support\n",
      "\n",
      "          0       0.87      1.00      0.93      4555\n",
      "          1       0.52      0.02      0.05       689\n",
      "\n",
      "avg / total       0.82      0.87      0.81      5244\n",
      "\n",
      "Accuracy of                 other_aid: 0.87\n",
      "Category: infrastructure_related \n",
      "              precision    recall  f1-score   support\n",
      "\n",
      "          0       0.94      1.00      0.97      4904\n",
      "          1       0.00      0.00      0.00       340\n",
      "\n",
      "avg / total       0.87      0.93      0.90      5244\n",
      "\n",
      "Accuracy of    infrastructure_related: 0.93\n",
      "Category: transport \n",
      "              precision    recall  f1-score   support\n",
      "\n",
      "          0       0.96      1.00      0.98      5017\n",
      "          1       0.52      0.05      0.10       227\n",
      "\n",
      "avg / total       0.94      0.96      0.94      5244\n",
      "\n",
      "Accuracy of                 transport: 0.96\n",
      "Category: buildings \n",
      "              precision    recall  f1-score   support\n",
      "\n",
      "          0       0.95      1.00      0.97      4975\n",
      "          1       0.65      0.12      0.20       269\n",
      "\n",
      "avg / total       0.94      0.95      0.93      5244\n",
      "\n",
      "Accuracy of                 buildings: 0.95\n",
      "Category: electricity \n",
      "              precision    recall  f1-score   support\n",
      "\n",
      "          0       0.98      1.00      0.99      5130\n",
      "          1       1.00      0.01      0.02       114\n",
      "\n",
      "avg / total       0.98      0.98      0.97      5244\n",
      "\n",
      "Accuracy of               electricity: 0.98\n",
      "Category: tools \n",
      "              precision    recall  f1-score   support\n",
      "\n",
      "          0       1.00      1.00      1.00      5218\n",
      "          1       0.00      0.00      0.00        26\n",
      "\n",
      "avg / total       0.99      1.00      0.99      5244\n",
      "\n",
      "Accuracy of                     tools: 1.00\n",
      "Category: hospitals \n",
      "              precision    recall  f1-score   support\n",
      "\n",
      "          0       0.99      1.00      1.00      5194\n",
      "          1       1.00      0.02      0.04        50\n",
      "\n",
      "avg / total       0.99      0.99      0.99      5244\n",
      "\n",
      "Accuracy of                 hospitals: 0.99\n",
      "Category: shops \n",
      "              precision    recall  f1-score   support\n",
      "\n",
      "          0       1.00      1.00      1.00      5222\n",
      "          1       0.00      0.00      0.00        22\n",
      "\n",
      "avg / total       0.99      1.00      0.99      5244\n",
      "\n",
      "Accuracy of                     shops: 1.00\n",
      "Category: aid_centers \n",
      "              precision    recall  f1-score   support\n",
      "\n",
      "          0       0.99      1.00      0.99      5181\n",
      "          1       0.00      0.00      0.00        63\n",
      "\n",
      "avg / total       0.98      0.99      0.98      5244\n",
      "\n",
      "Accuracy of               aid_centers: 0.99\n",
      "Category: other_infrastructure \n",
      "              precision    recall  f1-score   support\n",
      "\n",
      "          0       0.96      1.00      0.98      5013\n",
      "          1       0.00      0.00      0.00       231\n",
      "\n",
      "avg / total       0.91      0.96      0.93      5244\n",
      "\n",
      "Accuracy of      other_infrastructure: 0.96\n",
      "Category: weather_related \n",
      "              precision    recall  f1-score   support\n",
      "\n",
      "          0       0.83      0.96      0.89      3776\n",
      "          1       0.82      0.48      0.61      1468\n",
      "\n",
      "avg / total       0.83      0.83      0.81      5244\n",
      "\n",
      "Accuracy of           weather_related: 0.83\n",
      "Category: floods \n",
      "              precision    recall  f1-score   support\n",
      "\n",
      "          0       0.93      1.00      0.96      4798\n",
      "          1       0.91      0.24      0.37       446\n",
      "\n",
      "avg / total       0.93      0.93      0.91      5244\n",
      "\n",
      "Accuracy of                    floods: 0.93\n",
      "Category: storm \n",
      "              precision    recall  f1-score   support\n",
      "\n",
      "          0       0.93      0.99      0.96      4746\n",
      "          1       0.73      0.34      0.46       498\n",
      "\n",
      "avg / total       0.91      0.93      0.91      5244\n",
      "\n",
      "Accuracy of                     storm: 0.93\n",
      "Category: fire \n",
      "              precision    recall  f1-score   support\n",
      "\n",
      "          0       0.99      1.00      1.00      5195\n",
      "          1       0.00      0.00      0.00        49\n",
      "\n",
      "avg / total       0.98      0.99      0.99      5244\n",
      "\n",
      "Accuracy of                      fire: 0.99\n",
      "Category: earthquake \n",
      "              precision    recall  f1-score   support\n",
      "\n",
      "          0       0.96      0.99      0.98      4768\n",
      "          1       0.88      0.60      0.71       476\n",
      "\n",
      "avg / total       0.95      0.96      0.95      5244\n",
      "\n",
      "Accuracy of                earthquake: 0.96\n",
      "Category: cold \n",
      "              precision    recall  f1-score   support\n",
      "\n",
      "          0       0.98      1.00      0.99      5145\n",
      "          1       1.00      0.07      0.13        99\n",
      "\n",
      "avg / total       0.98      0.98      0.97      5244\n",
      "\n",
      "Accuracy of                      cold: 0.98\n",
      "Category: other_weather \n",
      "              precision    recall  f1-score   support\n",
      "\n",
      "          0       0.95      1.00      0.97      4962\n",
      "          1       0.83      0.02      0.03       282\n",
      "\n",
      "avg / total       0.94      0.95      0.92      5244\n",
      "\n",
      "Accuracy of             other_weather: 0.95\n",
      "Category: direct_report \n",
      "              precision    recall  f1-score   support\n",
      "\n",
      "          0       0.85      0.98      0.91      4213\n",
      "          1       0.80      0.30      0.44      1031\n",
      "\n",
      "avg / total       0.84      0.85      0.82      5244\n",
      "\n",
      "Accuracy of             direct_report: 0.85\n"
     ]
    },
    {
     "name": "stderr",
     "output_type": "stream",
     "text": [
      "/opt/conda/lib/python3.6/site-packages/sklearn/metrics/classification.py:1135: UndefinedMetricWarning: Precision and F-score are ill-defined and being set to 0.0 in labels with no predicted samples.\n",
      "  'precision', 'predicted', average, warn_for)\n"
     ]
    }
   ],
   "source": [
    "Y_pred = model.predict(X_test)\n",
    "category_names = list(Y)\n",
    " # Calculate the accuracy for each of them.\n",
    "for i in range(len(category_names)):\n",
    "    print(\"Category:\", category_names[i],\"\\n\", classification_report(Y_test.iloc[:, i].values, Y_pred[:, i]))\n",
    "    print('Accuracy of %25s: %.2f' %(category_names[i], accuracy_score(Y_test.iloc[:, i].values, Y_pred[:,i])))"
   ]
  },
  {
   "cell_type": "code",
   "execution_count": 9,
   "metadata": {
    "scrolled": true
   },
   "outputs": [
    {
     "data": {
      "text/plain": [
       "related                   0.773650\n",
       "request                   0.170659\n",
       "offer                     0.004501\n",
       "aid_related               0.414251\n",
       "medical_help              0.079493\n",
       "medical_products          0.050084\n",
       "search_and_rescue         0.027617\n",
       "security                  0.017966\n",
       "military                  0.032804\n",
       "child_alone               0.000000\n",
       "water                     0.063778\n",
       "food                      0.111497\n",
       "shelter                   0.088267\n",
       "clothing                  0.015449\n",
       "money                     0.023039\n",
       "missing_people            0.011367\n",
       "refugees                  0.033377\n",
       "death                     0.045545\n",
       "other_aid                 0.131446\n",
       "infrastructure_related    0.065037\n",
       "transport                 0.045812\n",
       "buildings                 0.050847\n",
       "electricity               0.020293\n",
       "tools                     0.006065\n",
       "hospitals                 0.010795\n",
       "shops                     0.004577\n",
       "aid_centers               0.011787\n",
       "other_infrastructure      0.043904\n",
       "weather_related           0.278341\n",
       "floods                    0.082202\n",
       "storm                     0.093187\n",
       "fire                      0.010757\n",
       "earthquake                0.093645\n",
       "cold                      0.020217\n",
       "other_weather             0.052487\n",
       "direct_report             0.193584\n",
       "dtype: float64"
      ]
     },
     "execution_count": 9,
     "metadata": {},
     "output_type": "execute_result"
    }
   ],
   "source": [
    "# Calculation the proportion of each column that have label == 1\n",
    "Y.sum()/len(Y)"
   ]
  },
  {
   "cell_type": "markdown",
   "metadata": {},
   "source": [
    "### 6. Improve your model\n",
    "Use grid search to find better parameters. "
   ]
  },
  {
   "cell_type": "code",
   "execution_count": 10,
   "metadata": {
    "scrolled": true
   },
   "outputs": [],
   "source": [
    "def model_build():\n",
    "    '''\n",
    "    Building an Machine Learning pipeline using random forest, ifidf, and gridsearch\n",
    "    Here, there would not be any inpupt\n",
    "    The output would be the results of gridsearchcv\n",
    "    '''\n",
    "    pipe2 = Pipeline([\n",
    "                      ('vect', CountVectorizer(tokenizer=tokenize)),\n",
    "                      ('tfidf', TfidfTransformer()),\n",
    "                      ('clf', MultiOutputClassifier(RandomForestClassifier()))\n",
    "                    ])\n",
    "\n",
    "    param2 = {\n",
    "             'clf__estimator__n_estimators': [50, 100],\n",
    "             'clf__estimator__min_samples_split': [2, 3, 4],\n",
    "             }\n",
    "    cv = GridSearchCV(pipe2, param_grid=param2)\n",
    "    \n",
    "    return cv"
   ]
  },
  {
   "cell_type": "code",
   "execution_count": null,
   "metadata": {},
   "outputs": [],
   "source": [
    "model=model_build()\n",
    "model.fit(X_train, Y_train)"
   ]
  },
  {
   "cell_type": "markdown",
   "metadata": {},
   "source": [
    "### 7. Test your model\n",
    "Show the accuracy, precision, and recall of the tuned model.  \n",
    "\n",
    "Since this project focuses on code quality, process, and  pipelines, there is no minimum performance metric needed to pass. However, make sure to fine tune your models for accuracy, precision and recall to make your project stand out - especially for your portfolio!"
   ]
  },
  {
   "cell_type": "code",
   "execution_count": null,
   "metadata": {
    "scrolled": false
   },
   "outputs": [],
   "source": [
    "Y_pred = model.predict(X_test)\n",
    "#Showing the accuracy, precision, and recall of the tuned model.    \n",
    "# Calculating the accuracy for each of them.\n",
    "for i in range(len(category_names)):\n",
    "    print(\"The Category is:\", category_names[i],\"\\n\", classification_report(Y_test.iloc[:, i].values, Y_pred[:, i]))\n",
    "    print('The accuracy of %25s: %.2f' %(category_names[i], accuracy_score(Y_test.iloc[:, i].values, Y_pred[:,i])))"
   ]
  },
  {
   "cell_type": "code",
   "execution_count": null,
   "metadata": {},
   "outputs": [],
   "source": [
    "def fscore_multiop(y_true,y_pred,beta=1):\n",
    "    '''\n",
    "    This function is for calculating f scores for multiple outputs\n",
    "    This function takes three inputs. Namely, y_true,y_pred,beta=1\n",
    "    The output will be fscores for multiple outputs    \n",
    "    '''\n",
    "    score_list = []\n",
    "    if isinstance(y_pred, pd.DataFrame) == True:\n",
    "        y_pred = y_pred.values\n",
    "    if isinstance(y_true, pd.DataFrame) == True:\n",
    "        y_true = y_true.values\n",
    "    for column in range(0,y_true.shape[1]):\n",
    "        score = fbeta_score(y_true[:,column],y_pred[:,column],beta,average='weighted')\n",
    "        score_list.append(score)\n",
    "    f1score_npy = np.asarray(score_list)\n",
    "    f1score_npy = f1score_npy[f1score_npy<1]\n",
    "    f1score = gmean(f1score_npy)\n",
    "    return  f1score"
   ]
  },
  {
   "cell_type": "code",
   "execution_count": null,
   "metadata": {},
   "outputs": [],
   "source": [
    "multiple_f1score = fscore_multiop(Y_test,Y_pred, beta = 1)\n",
    "overall_accuracy = (Y_pred == Y_test).mean().mean()\n",
    "\n",
    "print('Average overall accuracy {0:.2f}% \\n'.format(overall_accuracy*100))\n",
    "print('F1 score {0:.2f}%\\n'.format(multiple_f1score*100))"
   ]
  },
  {
   "cell_type": "markdown",
   "metadata": {},
   "source": [
    "### 8. Try improving your model further. Here are a few ideas:\n",
    "* try other machine learning algorithms\n",
    "* add other features besides the TF-IDF"
   ]
  },
  {
   "cell_type": "markdown",
   "metadata": {},
   "source": [
    "* Here I used Adaboost and Gradient Boosting"
   ]
  },
  {
   "cell_type": "code",
   "execution_count": null,
   "metadata": {
    "scrolled": true
   },
   "outputs": [],
   "source": [
    "def model_build():\n",
    "    '''\n",
    "    Building an Machine Learning pipeline using random forest, ifidf, and gridsearch\n",
    "    Here, there would not be any inpupt\n",
    "    The output would be the results of gridsearchcv\n",
    "   \n",
    "    '''\n",
    "    pipeline2 = Pipeline([\n",
    "                        ('vect', CountVectorizer(tokenizer=tokenize)),\n",
    "                        ('tfidf', TfidfTransformer()),\n",
    "                        ('clf', MultiOutputClassifier(AdaBoostClassifier()))\n",
    "                        ])\n",
    "\n",
    "    parameters2 = {\n",
    "                  'clf__estimator__n_estimators': [50, 100],\n",
    "                  'clf__estimator__learning_rate': [0.01,0.1],\n",
    "                 }\n",
    "    \n",
    "    cv = GridSearchCV(pipeline2, param_grid=parameters2)\n",
    "    \n",
    "    return cv"
   ]
  },
  {
   "cell_type": "code",
   "execution_count": null,
   "metadata": {},
   "outputs": [],
   "source": [
    "Y_pred = model.predict(X_test)\n",
    "    \n",
    "    # Calculate the accuracy for each of them.\n",
    "for i in range(len(category_names)):\n",
    "    print(\"Category:\", category_names[i],\"\\n\", classification_report(Y_test.iloc[:, i].values, Y_pred[:, i]))\n",
    "    print('Accuracy of %25s: %.2f' %(category_names[i], accuracy_score(Y_test.iloc[:, i].values, Y_pred[:,i])))"
   ]
  },
  {
   "cell_type": "code",
   "execution_count": null,
   "metadata": {},
   "outputs": [],
   "source": [
    "#Calculating F1 score\n",
    "multi_f1 = fscore_multiop(Y_test,Y_pred, beta = 1)\n",
    "\n",
    "#calculating overall accuracy for the model\n",
    "overall_accuracy = (Y_pred == Y_test).mean().mean()\n",
    "\n",
    "print('Average overall accuracy {0:.2f}% \\n'.format(overall_accuracy*100))\n",
    "print('F1 score {0:.2f}%\\n'.format(multi_f1*100))"
   ]
  },
  {
   "cell_type": "markdown",
   "metadata": {},
   "source": [
    "### 9. Export your model as a pickle file"
   ]
  },
  {
   "cell_type": "code",
   "execution_count": null,
   "metadata": {},
   "outputs": [],
   "source": [
    "#Export your model as a pickle file\n",
    "#Here, the filename is final_model.sav\n",
    "import pickle\n",
    "pickle.dump(model, open('final_model.sav', 'wb'))"
   ]
  },
  {
   "cell_type": "markdown",
   "metadata": {},
   "source": [
    "### 10. Use this notebook to complete `train.py`\n",
    "Use the template file attached in the Resources folder to write a script that runs the steps above to create a database and export a model based on a new dataset specified by the user."
   ]
  },
  {
   "cell_type": "code",
   "execution_count": null,
   "metadata": {},
   "outputs": [],
   "source": []
  }
 ],
 "metadata": {
  "kernelspec": {
   "display_name": "Python 3",
   "language": "python",
   "name": "python3"
  },
  "language_info": {
   "codemirror_mode": {
    "name": "ipython",
    "version": 3
   },
   "file_extension": ".py",
   "mimetype": "text/x-python",
   "name": "python",
   "nbconvert_exporter": "python",
   "pygments_lexer": "ipython3",
   "version": "3.6.3"
  }
 },
 "nbformat": 4,
 "nbformat_minor": 2
}
